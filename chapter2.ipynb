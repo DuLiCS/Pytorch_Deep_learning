{
 "cells": [
  {
   "cell_type": "code",
   "execution_count": 1,
   "id": "initial_id",
   "metadata": {
    "collapsed": true,
    "ExecuteTime": {
     "end_time": "2023-08-29T08:04:05.348476Z",
     "start_time": "2023-08-29T08:04:04.456239Z"
    }
   },
   "outputs": [],
   "source": [
    "import torch.nn\n",
    "import torchvision\n",
    "from torchvision import transforms\n",
    "\n",
    "import os\n",
    "os.environ[\"KMP_DUPLICATE_LIB_OK\"] = \"True\"\n"
   ]
  },
  {
   "cell_type": "code",
   "execution_count": 2,
   "outputs": [],
   "source": [
    "train_data_path = \"./train/\"\n",
    "transforms = transforms.Compose([\n",
    "    transforms.Resize((64, 64)),\n",
    "    transforms.ToTensor(),\n",
    "    transforms.Normalize(mean=[0.485, 0.456, 0.406],\n",
    "                         std=[0.229, 0.224, 0.225])\n",
    "])\n",
    "train_data = torchvision.datasets.ImageFolder(root=train_data_path, transform=transforms)\n"
   ],
   "metadata": {
    "collapsed": false,
    "ExecuteTime": {
     "end_time": "2023-08-29T08:04:05.353342Z",
     "start_time": "2023-08-29T08:04:05.349838Z"
    }
   },
   "id": "eeb1221c38dee864"
  },
  {
   "cell_type": "code",
   "execution_count": 3,
   "outputs": [],
   "source": [
    "val_data_path = './val/'\n",
    "val_data = torchvision.datasets.ImageFolder(root=val_data_path, transform=transforms)"
   ],
   "metadata": {
    "collapsed": false,
    "ExecuteTime": {
     "end_time": "2023-08-29T08:04:05.357053Z",
     "start_time": "2023-08-29T08:04:05.353799Z"
    }
   },
   "id": "2291792a2373652f"
  },
  {
   "cell_type": "code",
   "execution_count": 4,
   "outputs": [],
   "source": [
    "test_data_path = './test/'\n",
    "test_data = torchvision.datasets.ImageFolder(root=test_data_path, transform=transforms)"
   ],
   "metadata": {
    "collapsed": false,
    "ExecuteTime": {
     "end_time": "2023-08-29T08:04:05.360476Z",
     "start_time": "2023-08-29T08:04:05.357425Z"
    }
   },
   "id": "850f268e1b0037c2"
  },
  {
   "cell_type": "code",
   "execution_count": 5,
   "outputs": [],
   "source": [
    "from torch.utils import data\n",
    "\n",
    "batch_size = 64\n",
    "train_data_loader = data.DataLoader(train_data, batch_size=batch_size)\n",
    "val_data_loader = data.DataLoader(val_data, batch_size=batch_size)\n",
    "test_data_loader = data.DataLoader(test_data, batch_size=batch_size)"
   ],
   "metadata": {
    "collapsed": false,
    "ExecuteTime": {
     "end_time": "2023-08-29T08:04:05.364076Z",
     "start_time": "2023-08-29T08:04:05.362079Z"
    }
   },
   "id": "b4ea16734d98d97"
  },
  {
   "cell_type": "code",
   "execution_count": 6,
   "outputs": [],
   "source": [
    "from torch import nn\n",
    "import torch.nn.functional as F\n",
    "\n",
    "class SimpleNet(nn.Module):\n",
    "    \n",
    "    def __init__(self):\n",
    "        super().__init__()\n",
    "        self.fc1 = nn.Linear(12288, 84)\n",
    "        self.fc2 = nn.Linear(84, 50)\n",
    "        self.fc3 = nn.Linear(50, 2)\n",
    "    \n",
    "    def forward(self, x):\n",
    "        x = x.view(-1, 12288)\n",
    "        x = F.relu(self.fc1(x))\n",
    "        x = F.relu(self.fc2(x))\n",
    "        x = self.fc3(x)\n",
    "        return x\n",
    "\n",
    "simplenet = SimpleNet()"
   ],
   "metadata": {
    "collapsed": false,
    "ExecuteTime": {
     "end_time": "2023-08-29T08:04:05.371698Z",
     "start_time": "2023-08-29T08:04:05.365536Z"
    }
   },
   "id": "bec3dbe5201ee3f3"
  },
  {
   "cell_type": "code",
   "execution_count": 7,
   "outputs": [],
   "source": [
    "import torch.optim as optim\n",
    "\n",
    "optimizer = optim.Adam(simplenet.parameters(), lr=0.001)"
   ],
   "metadata": {
    "collapsed": false,
    "ExecuteTime": {
     "end_time": "2023-08-29T08:04:05.374217Z",
     "start_time": "2023-08-29T08:04:05.371566Z"
    }
   },
   "id": "23a56f8a5a118273"
  },
  {
   "cell_type": "code",
   "execution_count": 8,
   "outputs": [],
   "source": [
    "def train(model, optimizer, loss_fn, train_loader, val_loader, epochs=20, device=\"mps\"):\n",
    "    for epoch in range(epochs):\n",
    "        training_loss = 0.0\n",
    "        valid_loss = 0.0\n",
    "        model.train()\n",
    "        for batch in train_loader:\n",
    "            optimizer.zero_grad()\n",
    "            inputs, target = batch\n",
    "            inputs = inputs.to(device)\n",
    "            target = target.to(device)\n",
    "            output = model(inputs)\n",
    "            loss = loss_fn(target, output)\n",
    "            loss.backward()\n",
    "            optimizer.step()\n",
    "            training_loss += loss.data.item() * inputs.size(0)\n",
    "        training_loss /= len(train_loader.dataset)\n",
    "        \n",
    "        model.eval()\n",
    "        num_correct = 0\n",
    "        num_examples = 0\n",
    "        for batch in val_loader:\n",
    "            inputs, target = batch\n",
    "            inputs = inputs.to(device)\n",
    "            target = target.to(device)\n",
    "            output = model(inputs)\n",
    "            loss = loss_fn(target, output)\n",
    "            valid_loss += loss.data.item() * inputs.size(0)\n",
    "            correct = torch.eq(torch.max(F.Softmax(output, dim=1),dim=1)[1], target)\n",
    "            num_correct += torch.sum(correct).item()\n",
    "            num_examples += correct.shape[0]\n",
    "        valid_loss /= len(val_loader.dataset)\n",
    "        \n",
    "        print('Epoch:{},Training loss:{:.2f},Validation Loss:{:.2f},accuracy = {:.2f}'.format(epoch, training_loss,valid_loss,num_correct/num_examples))"
   ],
   "metadata": {
    "collapsed": false,
    "ExecuteTime": {
     "end_time": "2023-08-29T08:04:05.378055Z",
     "start_time": "2023-08-29T08:04:05.375966Z"
    }
   },
   "id": "d9f8d7270c42c5a8"
  },
  {
   "cell_type": "code",
   "execution_count": 9,
   "outputs": [
    {
     "name": "stdout",
     "output_type": "stream",
     "text": [
      "mps\n"
     ]
    }
   ],
   "source": [
    "if torch.backends.mps.is_available():\n",
    "    device = torch.device(\"mps\")\n",
    "else:\n",
    "    device = torch.device(\"cpu\")\n",
    "\n",
    "\n",
    "simplenet = simplenet.to(device)\n",
    "print(device)"
   ],
   "metadata": {
    "collapsed": false,
    "ExecuteTime": {
     "end_time": "2023-08-29T08:04:05.399262Z",
     "start_time": "2023-08-29T08:04:05.390944Z"
    }
   },
   "id": "28b799aa717bced6"
  },
  {
   "cell_type": "code",
   "execution_count": null,
   "outputs": [],
   "source": [
    "train(simplenet, optimizer, nn.CrossEntropyLoss(), train_data_loader, val_data_loader)"
   ],
   "metadata": {
    "collapsed": false,
    "is_executing": true,
    "ExecuteTime": {
     "start_time": "2023-08-29T08:04:05.398276Z"
    }
   },
   "id": "11c784a58f48b00a"
  },
  {
   "cell_type": "code",
   "execution_count": 4,
   "outputs": [
    {
     "name": "stdout",
     "output_type": "stream",
     "text": [
      "mps\n",
      "Epoch:0,Training loss:3.26,Validation Loss:4.14,accuracy = 0.32\n",
      "Epoch:1,Training loss:2.54,Validation Loss:1.28,accuracy = 0.61\n",
      "Epoch:2,Training loss:1.02,Validation Loss:1.07,accuracy = 0.66\n",
      "Epoch:3,Training loss:0.72,Validation Loss:0.73,accuracy = 0.75\n",
      "Epoch:4,Training loss:0.40,Validation Loss:0.85,accuracy = 0.69\n",
      "Epoch:5,Training loss:0.36,Validation Loss:0.83,accuracy = 0.70\n",
      "Epoch:6,Training loss:0.31,Validation Loss:0.75,accuracy = 0.71\n",
      "Epoch:7,Training loss:0.24,Validation Loss:0.80,accuracy = 0.73\n",
      "Epoch:8,Training loss:0.21,Validation Loss:0.76,accuracy = 0.71\n",
      "Epoch:9,Training loss:0.18,Validation Loss:0.75,accuracy = 0.71\n",
      "Epoch:10,Training loss:0.15,Validation Loss:0.79,accuracy = 0.71\n",
      "Epoch:11,Training loss:0.14,Validation Loss:0.77,accuracy = 0.71\n",
      "Epoch:12,Training loss:0.12,Validation Loss:0.80,accuracy = 0.71\n",
      "Epoch:13,Training loss:0.11,Validation Loss:0.81,accuracy = 0.71\n",
      "Epoch:14,Training loss:0.09,Validation Loss:0.81,accuracy = 0.72\n",
      "Epoch:15,Training loss:0.07,Validation Loss:0.84,accuracy = 0.71\n",
      "Epoch:16,Training loss:0.07,Validation Loss:0.82,accuracy = 0.72\n",
      "Epoch:17,Training loss:0.06,Validation Loss:0.82,accuracy = 0.73\n",
      "Epoch:18,Training loss:0.05,Validation Loss:0.85,accuracy = 0.72\n",
      "Epoch:19,Training loss:0.04,Validation Loss:0.81,accuracy = 0.72\n",
      "fish\n"
     ]
    }
   ],
   "source": [
    "import torch.nn\n",
    "import torchvision\n",
    "from torchvision import transforms\n",
    "\n",
    "import os\n",
    "\n",
    "os.environ[\"KMP_DUPLICATE_LIB_OK\"] = \"True\"\n",
    "\n",
    "train_data_path = \"./train/\"\n",
    "transforms = transforms.Compose([\n",
    "    transforms.Resize((64, 64)),\n",
    "    transforms.ToTensor(),\n",
    "    transforms.Normalize(mean=[0.485, 0.456, 0.406],\n",
    "                         std=[0.229, 0.224, 0.225])\n",
    "])\n",
    "train_data = torchvision.datasets.ImageFolder(root=train_data_path, transform=transforms)\n",
    "\n",
    "val_data_path = './val/'\n",
    "val_data = torchvision.datasets.ImageFolder(root=val_data_path, transform=transforms)\n",
    "test_data_path = './test/'\n",
    "test_data = torchvision.datasets.ImageFolder(root=test_data_path, transform=transforms)\n",
    "\n",
    "from torch.utils import data\n",
    "\n",
    "batch_size = 64\n",
    "train_data_loader = data.DataLoader(train_data, batch_size=batch_size)\n",
    "val_data_loader = data.DataLoader(val_data, batch_size=batch_size)\n",
    "test_data_loader = data.DataLoader(test_data, batch_size=batch_size)\n",
    "\n",
    "from torch import nn\n",
    "import torch.nn.functional as F\n",
    "\n",
    "\n",
    "class SimpleNet(nn.Module):\n",
    "\n",
    "    def __init__(self):\n",
    "        super().__init__()\n",
    "        self.fc1 = nn.Linear(12288, 84)\n",
    "        self.fc2 = nn.Linear(84, 50)\n",
    "        self.fc3 = nn.Linear(50, 2)\n",
    "\n",
    "    def forward(self, x):\n",
    "        x = x.view(-1, 12288)\n",
    "        x = F.relu(self.fc1(x))\n",
    "        x = F.relu(self.fc2(x))\n",
    "        x = self.fc3(x)\n",
    "        return x\n",
    "\n",
    "\n",
    "simplenet = SimpleNet()\n",
    "\n",
    "import torch.optim as optim\n",
    "\n",
    "optimizer = optim.Adam(simplenet.parameters(), lr=0.001)\n",
    "\n",
    "\n",
    "def train(model, optimizer, loss_fn, train_loader, val_loader, epochs=20, device=\"mps\"):\n",
    "    for epoch in range(epochs):\n",
    "        training_loss = 0.0\n",
    "        valid_loss = 0.0\n",
    "        model.train()\n",
    "        for batch in train_loader:\n",
    "            optimizer.zero_grad()\n",
    "            inputs, target = batch\n",
    "            inputs = inputs.to(device)\n",
    "            target = target.to(device)\n",
    "            output = model(inputs)\n",
    "\n",
    "            loss = loss_fn(output, target)\n",
    "            loss.backward()\n",
    "            optimizer.step()\n",
    "            training_loss += loss.data.item() * inputs.size(0)\n",
    "        training_loss /= len(train_loader.dataset)\n",
    "\n",
    "        model.eval()\n",
    "        num_correct = 0\n",
    "        num_examples = 0\n",
    "        for batch in val_loader:\n",
    "            inputs, target = batch\n",
    "            inputs = inputs.to(device)\n",
    "            target = target.to(device)\n",
    "            output = model(inputs)\n",
    "            loss = loss_fn(output, target)\n",
    "            valid_loss += loss.data.item() * inputs.size(0)\n",
    "            correct = torch.eq(torch.max(F.softmax(output, dim=1), dim=1)[1], target)\n",
    "            num_correct += torch.sum(correct).item()\n",
    "            num_examples += correct.shape[0]\n",
    "        valid_loss /= len(val_loader.dataset)\n",
    "\n",
    "        print('Epoch:{},Training loss:{:.2f},Validation Loss:{:.2f},accuracy = {:.2f}'.format(epoch, training_loss,\n",
    "                                                                                              valid_loss,\n",
    "                                                                                              num_correct / num_examples))\n",
    "\n",
    "\n",
    "if torch.backends.mps.is_available():\n",
    "    device = torch.device(\"mps\")\n",
    "else:\n",
    "    device = torch.device(\"cpu\")\n",
    "\n",
    "\n",
    "simplenet = simplenet.to(device)\n",
    "print(device)\n",
    "\n",
    "train(simplenet, optimizer, nn.CrossEntropyLoss(), train_data_loader, val_data_loader, device=device)\n",
    "\n",
    "from PIL import Image\n",
    "\n",
    "labels = ['cat', 'fish']\n",
    "img = Image.open('./test/cat/1130458060_b77117482a.jpg')\n",
    "img = transforms(img).to(device)\n",
    "\n",
    "prediction = simplenet(img)\n",
    "prediction = prediction.argmax()\n",
    "print(labels[prediction])\n"
   ],
   "metadata": {
    "collapsed": false,
    "ExecuteTime": {
     "end_time": "2023-08-29T08:35:14.523405Z",
     "start_time": "2023-08-29T08:34:33.253127Z"
    }
   },
   "id": "b89940e48298d901"
  },
  {
   "cell_type": "code",
   "execution_count": 6,
   "outputs": [],
   "source": [
    "torch.save(simplenet, \"simplenet\")"
   ],
   "metadata": {
    "collapsed": false,
    "ExecuteTime": {
     "end_time": "2023-08-29T08:35:58.615699Z",
     "start_time": "2023-08-29T08:35:58.612720Z"
    }
   },
   "id": "53caf6562e9e476"
  },
  {
   "cell_type": "code",
   "execution_count": 12,
   "outputs": [
    {
     "name": "stdout",
     "output_type": "stream",
     "text": [
      "fish\n"
     ]
    }
   ],
   "source": [
    "from PIL import Image\n",
    "\n",
    "labels = ['cat', 'fish']\n",
    "img = Image.open('./test/fish/118484640_7a2337ea53.jpg')\n",
    "img = transforms(img).to(device)\n",
    "img = img.unsqueeze(0)\n",
    "\n",
    "prediction = simplenet(img)\n",
    "prediction = prediction.argmax()\n",
    "print(labels[prediction])"
   ],
   "metadata": {
    "collapsed": false,
    "ExecuteTime": {
     "end_time": "2023-08-29T08:37:13.264579Z",
     "start_time": "2023-08-29T08:37:13.252624Z"
    }
   },
   "id": "2300a00f02c352da"
  },
  {
   "cell_type": "code",
   "execution_count": null,
   "outputs": [],
   "source": [],
   "metadata": {
    "collapsed": false
   },
   "id": "56c9962f564255dc"
  }
 ],
 "metadata": {
  "kernelspec": {
   "display_name": "Python 3",
   "language": "python",
   "name": "python3"
  },
  "language_info": {
   "codemirror_mode": {
    "name": "ipython",
    "version": 2
   },
   "file_extension": ".py",
   "mimetype": "text/x-python",
   "name": "python",
   "nbconvert_exporter": "python",
   "pygments_lexer": "ipython2",
   "version": "2.7.6"
  }
 },
 "nbformat": 4,
 "nbformat_minor": 5
}
